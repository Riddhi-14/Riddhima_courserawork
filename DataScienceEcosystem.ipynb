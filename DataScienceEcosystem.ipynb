{
  "nbformat": 4,
  "nbformat_minor": 0,
  "metadata": {
    "colab": {
      "provenance": [],
      "authorship_tag": "ABX9TyNb+VPAMmuJgnXXXK68f0Df",
      "include_colab_link": true
    },
    "kernelspec": {
      "name": "python3",
      "display_name": "Python 3"
    },
    "language_info": {
      "name": "python"
    }
  },
  "cells": [
    {
      "cell_type": "markdown",
      "metadata": {
        "id": "view-in-github",
        "colab_type": "text"
      },
      "source": [
        "<a href=\"https://colab.research.google.com/github/Riddhi-14/Riddhima_courserawork/blob/main/DataScienceEcosystem.ipynb\" target=\"_parent\"><img src=\"https://colab.research.google.com/assets/colab-badge.svg\" alt=\"Open In Colab\"/></a>"
      ]
    },
    {
      "cell_type": "markdown",
      "source": [
        "# Data Science Tools and Ecosystem\n"
      ],
      "metadata": {
        "id": "NPj86nPcqyrl"
      }
    },
    {
      "cell_type": "markdown",
      "source": [
        "In this notebook, we provide a summary of the Data Science Tools and Ecosystem.\n",
        "\n"
      ],
      "metadata": {
        "id": "t4XRvp4erBBD"
      }
    },
    {
      "cell_type": "markdown",
      "source": [
        "Some of the popular languages that Data Scientists use are:\n",
        "\n",
        "1. Python\n",
        "2. R\n",
        "3. SQL\n"
      ],
      "metadata": {
        "id": "k7-jlm6JsDs7"
      }
    },
    {
      "cell_type": "markdown",
      "source": [
        "Add an overview line to the cell like:\n",
        "\n",
        "Some of the commonly used libraries used by Data Scientists include:\n",
        "Below this line add an ordered list listing 3 (or more) commonly used libraries in data science."
      ],
      "metadata": {
        "id": "u8WcoHd0syZr"
      }
    },
    {
      "cell_type": "markdown",
      "source": [
        "Create a markdown cell with a table of Data Science tools\n",
        "\n",
        "Create a single column table in this cell with the first row containing the header Data Science Tools. The subsequent three rows in the table should indicate three development environment open source tools used in data science."
      ],
      "metadata": {
        "id": "VmW2AVPKtG6L"
      }
    },
    {
      "cell_type": "markdown",
      "source": [
        "### Below are a few examples of evaluating arithmetic expressions in Python.\n"
      ],
      "metadata": {
        "id": "w6oUNhxotKY1"
      }
    },
    {
      "cell_type": "code",
      "source": [
        "# This is a simple arithmetic expression to multiply then add integers.\n",
        "result = (3 * 4) + 5\n",
        "result\n"
      ],
      "metadata": {
        "colab": {
          "base_uri": "https://localhost:8080/"
        },
        "id": "uCTIChQQtXde",
        "outputId": "ee6c79d5-f7b4-4289-d36f-00684eaadd8a"
      },
      "execution_count": null,
      "outputs": [
        {
          "output_type": "execute_result",
          "data": {
            "text/plain": [
              "17"
            ]
          },
          "metadata": {},
          "execution_count": 5
        }
      ]
    },
    {
      "cell_type": "code",
      "source": [
        "# This will convert 200 minutes to hours by dividing by 60.\n",
        "minutes = 200\n",
        "hours = minutes / 60\n",
        "hours\n"
      ],
      "metadata": {
        "colab": {
          "base_uri": "https://localhost:8080/"
        },
        "id": "EFqMpS7MthjD",
        "outputId": "e8e920d1-6a15-48ee-d7f7-f0fa4808232d"
      },
      "execution_count": null,
      "outputs": [
        {
          "output_type": "execute_result",
          "data": {
            "text/plain": [
              "3.3333333333333335"
            ]
          },
          "metadata": {},
          "execution_count": 6
        }
      ]
    },
    {
      "cell_type": "markdown",
      "source": [
        "**Objectives:**\n",
        "\n",
        "- List popular languages for Data Science\n",
        "- Introduce common libraries used in Data Science\n",
        "- Provide an overview of Data Science tools and ecosystems\n"
      ],
      "metadata": {
        "id": "xW5mRbYyts6v"
      }
    },
    {
      "cell_type": "markdown",
      "source": [
        "## Author\n",
        "Your Name\n"
      ],
      "metadata": {
        "id": "7asyXBEJt2z6"
      }
    }
  ]
}